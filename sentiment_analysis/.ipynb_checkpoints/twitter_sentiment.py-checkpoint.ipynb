{
 "cells": [
  {
   "cell_type": "code",
   "execution_count": 2,
   "metadata": {},
   "outputs": [
    {
     "name": "stdout",
     "output_type": "stream",
     "text": [
      "Collecting tweepy\n",
      "  Downloading https://files.pythonhosted.org/packages/05/f1/2e8c7b202dd04117a378ac0c55cc7dafa80280ebd7f692f1fa8f27fd6288/tweepy-3.6.0-py2.py3-none-any.whl\n",
      "Requirement already satisfied: PySocks>=1.5.7 in /Users/aayushsharma/anaconda3/lib/python3.6/site-packages (from tweepy) (1.6.7)\n",
      "Requirement already satisfied: requests-oauthlib>=0.7.0 in /Users/aayushsharma/anaconda3/lib/python3.6/site-packages/requests_oauthlib-0.8.0-py3.6.egg (from tweepy) (0.8.0)\n",
      "Requirement already satisfied: six>=1.10.0 in /Users/aayushsharma/anaconda3/lib/python3.6/site-packages (from tweepy) (1.11.0)\n",
      "Requirement already satisfied: requests>=2.11.1 in /Users/aayushsharma/anaconda3/lib/python3.6/site-packages (from tweepy) (2.18.4)\n",
      "Requirement already satisfied: oauthlib>=0.6.2 in /Users/aayushsharma/anaconda3/lib/python3.6/site-packages/oauthlib-2.0.6-py3.6.egg (from requests-oauthlib>=0.7.0->tweepy) (2.0.6)\n",
      "Requirement already satisfied: chardet<3.1.0,>=3.0.2 in /Users/aayushsharma/anaconda3/lib/python3.6/site-packages (from requests>=2.11.1->tweepy) (3.0.4)\n",
      "Requirement already satisfied: idna<2.7,>=2.5 in /Users/aayushsharma/anaconda3/lib/python3.6/site-packages (from requests>=2.11.1->tweepy) (2.6)\n",
      "Requirement already satisfied: urllib3<1.23,>=1.21.1 in /Users/aayushsharma/anaconda3/lib/python3.6/site-packages (from requests>=2.11.1->tweepy) (1.22)\n",
      "Requirement already satisfied: certifi>=2017.4.17 in /Users/aayushsharma/anaconda3/lib/python3.6/site-packages (from requests>=2.11.1->tweepy) (2018.8.13)\n",
      "Installing collected packages: tweepy\n",
      "Successfully installed tweepy-3.6.0\n"
     ]
    }
   ],
   "source": [
    "!pip3 install tweepy"
   ]
  },
  {
   "cell_type": "code",
   "execution_count": 3,
   "metadata": {
    "collapsed": true
   },
   "outputs": [],
   "source": [
    "import tweepy\n",
    "#Authorization keys\n",
    "CONSUMER_KEY='tmqkengI7kRvu8mCqz2Aup4Y7'\n",
    "CONSUMER_SECRET='mpWObDLMK9Sx64bYUmXj7c7wVTzyg1xlUAoq1vlK8EAgfHokXP'\n",
    "ACCESS_TOKEN='593201197-dsIDuMxEH02bpJLL2WnRFmf9SrMo8FNhuaXVdcxi'\n",
    "ACCESS_TOKEN_SECRET='7ZuJhrAaFOKrT0mPy59659tPbUO1pAC5VxrzlHS2NRjF1'\n",
    "auth = tweepy.OAuthHandler(CONSUMER_KEY,CONSUMER_SECRET)\n",
    "auth.set_access_token(ACCESS_TOKEN,ACCESS_TOKEN_SECRET)\n",
    "api = tweepy.API(auth)"
   ]
  },
  {
   "cell_type": "code",
   "execution_count": null,
   "metadata": {
    "collapsed": true
   },
   "outputs": [],
   "source": []
  }
 ],
 "metadata": {
  "kernelspec": {
   "display_name": "Python 3",
   "language": "python",
   "name": "python3"
  },
  "language_info": {
   "codemirror_mode": {
    "name": "ipython",
    "version": 3
   },
   "file_extension": ".py",
   "mimetype": "text/x-python",
   "name": "python",
   "nbconvert_exporter": "python",
   "pygments_lexer": "ipython3",
   "version": "3.6.3"
  }
 },
 "nbformat": 4,
 "nbformat_minor": 2
}
